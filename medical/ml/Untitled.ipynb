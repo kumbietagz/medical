{
 "cells": [
  {
   "cell_type": "code",
   "execution_count": 1,
   "id": "3588c12d-c221-4071-95bb-173eb4b9e883",
   "metadata": {},
   "outputs": [],
   "source": [
    "import pandas as pd\n",
    "import numpy as np\n",
    "from matplotlib import pyplot as plt\n",
    "import matplotlib\n",
    "%matplotlib inline\n",
    "from sklearn.metrics import classification_report,confusion_matrix"
   ]
  },
  {
   "cell_type": "code",
   "execution_count": 2,
   "id": "4f9bdcfb-f3f1-415d-af00-4d466f8cedfb",
   "metadata": {},
   "outputs": [],
   "source": [
    "import warnings\n",
    "warnings.filterwarnings('ignore')"
   ]
  },
  {
   "cell_type": "code",
   "execution_count": 5,
   "id": "8334dcc8-d4d3-4690-bc74-2f591a180624",
   "metadata": {},
   "outputs": [
    {
     "data": {
      "text/html": [
       "<div>\n",
       "<style scoped>\n",
       "    .dataframe tbody tr th:only-of-type {\n",
       "        vertical-align: middle;\n",
       "    }\n",
       "\n",
       "    .dataframe tbody tr th {\n",
       "        vertical-align: top;\n",
       "    }\n",
       "\n",
       "    .dataframe thead th {\n",
       "        text-align: right;\n",
       "    }\n",
       "</style>\n",
       "<table border=\"1\" class=\"dataframe\">\n",
       "  <thead>\n",
       "    <tr style=\"text-align: right;\">\n",
       "      <th></th>\n",
       "      <th>CLAIM_NUMBER</th>\n",
       "      <th>LINE_NUMBER</th>\n",
       "      <th>MEMBER_NUMBER</th>\n",
       "      <th>CURRENTAGE</th>\n",
       "      <th>SUFFIX</th>\n",
       "      <th>PATIENTNAME</th>\n",
       "      <th>GENDER</th>\n",
       "      <th>CURRENTAGE_1</th>\n",
       "      <th>CLAIMED</th>\n",
       "      <th>PAID</th>\n",
       "      <th>...</th>\n",
       "      <th>REFERRAL</th>\n",
       "      <th>PCKAGE</th>\n",
       "      <th>TARIFF_AMOUNT</th>\n",
       "      <th>PAY_WHO</th>\n",
       "      <th>MODIFIER_STRING</th>\n",
       "      <th>FIRMNO</th>\n",
       "      <th>SHORTFALLREASON</th>\n",
       "      <th>PROVIDERTYPE</th>\n",
       "      <th>AGE</th>\n",
       "      <th>Class</th>\n",
       "    </tr>\n",
       "  </thead>\n",
       "  <tbody>\n",
       "    <tr>\n",
       "      <th>0</th>\n",
       "      <td>31184</td>\n",
       "      <td>1</td>\n",
       "      <td>30400166634</td>\n",
       "      <td>39.921212</td>\n",
       "      <td>2</td>\n",
       "      <td>TASHINGA</td>\n",
       "      <td>F</td>\n",
       "      <td>39.921212</td>\n",
       "      <td>450.0</td>\n",
       "      <td>258.0</td>\n",
       "      <td>...</td>\n",
       "      <td>10782.0</td>\n",
       "      <td>304</td>\n",
       "      <td>258.0</td>\n",
       "      <td>M</td>\n",
       "      <td>NaN</td>\n",
       "      <td>CMS004KAO</td>\n",
       "      <td>101</td>\n",
       "      <td>18</td>\n",
       "      <td>ABOVE 22</td>\n",
       "      <td>proceed</td>\n",
       "    </tr>\n",
       "    <tr>\n",
       "      <th>1</th>\n",
       "      <td>56041</td>\n",
       "      <td>1</td>\n",
       "      <td>30400171454</td>\n",
       "      <td>36.948093</td>\n",
       "      <td>1</td>\n",
       "      <td>EMILY</td>\n",
       "      <td>F</td>\n",
       "      <td>36.948093</td>\n",
       "      <td>70.0</td>\n",
       "      <td>17.5</td>\n",
       "      <td>...</td>\n",
       "      <td>1244.0</td>\n",
       "      <td>304</td>\n",
       "      <td>25.0</td>\n",
       "      <td>M</td>\n",
       "      <td>NaN</td>\n",
       "      <td>CMS004MUR</td>\n",
       "      <td>101</td>\n",
       "      <td>18</td>\n",
       "      <td>ABOVE 22</td>\n",
       "      <td>proceed</td>\n",
       "    </tr>\n",
       "    <tr>\n",
       "      <th>2</th>\n",
       "      <td>86876</td>\n",
       "      <td>1</td>\n",
       "      <td>30001814165</td>\n",
       "      <td>38.128201</td>\n",
       "      <td>1</td>\n",
       "      <td>FADZAI</td>\n",
       "      <td>F</td>\n",
       "      <td>38.128201</td>\n",
       "      <td>25.0</td>\n",
       "      <td>17.5</td>\n",
       "      <td>...</td>\n",
       "      <td>5058.0</td>\n",
       "      <td>300</td>\n",
       "      <td>25.0</td>\n",
       "      <td>M</td>\n",
       "      <td>NaN</td>\n",
       "      <td>CMS001TNQ</td>\n",
       "      <td>101</td>\n",
       "      <td>18</td>\n",
       "      <td>ABOVE 22</td>\n",
       "      <td>proceed</td>\n",
       "    </tr>\n",
       "    <tr>\n",
       "      <th>3</th>\n",
       "      <td>117280</td>\n",
       "      <td>1</td>\n",
       "      <td>40000064456</td>\n",
       "      <td>60.203470</td>\n",
       "      <td>2</td>\n",
       "      <td>BHAVNA</td>\n",
       "      <td>F</td>\n",
       "      <td>60.203470</td>\n",
       "      <td>300.0</td>\n",
       "      <td>135.0</td>\n",
       "      <td>...</td>\n",
       "      <td>18192.0</td>\n",
       "      <td>400</td>\n",
       "      <td>135.0</td>\n",
       "      <td>V</td>\n",
       "      <td>NaN</td>\n",
       "      <td>CMS001SHC</td>\n",
       "      <td>101;535</td>\n",
       "      <td>18</td>\n",
       "      <td>ABOVE 22</td>\n",
       "      <td>proceed</td>\n",
       "    </tr>\n",
       "    <tr>\n",
       "      <th>4</th>\n",
       "      <td>117281</td>\n",
       "      <td>1</td>\n",
       "      <td>40000064456</td>\n",
       "      <td>60.203470</td>\n",
       "      <td>2</td>\n",
       "      <td>BHAVNA</td>\n",
       "      <td>F</td>\n",
       "      <td>60.203470</td>\n",
       "      <td>200.0</td>\n",
       "      <td>200.0</td>\n",
       "      <td>...</td>\n",
       "      <td>18192.0</td>\n",
       "      <td>400</td>\n",
       "      <td>250.0</td>\n",
       "      <td>V</td>\n",
       "      <td>NaN</td>\n",
       "      <td>CMS001SHC</td>\n",
       "      <td>101</td>\n",
       "      <td>18</td>\n",
       "      <td>ABOVE 22</td>\n",
       "      <td>proceed</td>\n",
       "    </tr>\n",
       "  </tbody>\n",
       "</table>\n",
       "<p>5 rows × 32 columns</p>\n",
       "</div>"
      ],
      "text/plain": [
       "   CLAIM_NUMBER  LINE_NUMBER  MEMBER_NUMBER  CURRENTAGE SUFFIX PATIENTNAME  \\\n",
       "0         31184            1    30400166634   39.921212      2  TASHINGA     \n",
       "1         56041            1    30400171454   36.948093      1     EMILY     \n",
       "2         86876            1    30001814165   38.128201      1    FADZAI     \n",
       "3        117280            1    40000064456   60.203470      2    BHAVNA     \n",
       "4        117281            1    40000064456   60.203470      2    BHAVNA     \n",
       "\n",
       "  GENDER  CURRENTAGE_1  CLAIMED   PAID  ...  REFERRAL  PCKAGE TARIFF_AMOUNT  \\\n",
       "0      F     39.921212    450.0  258.0  ...   10782.0     304         258.0   \n",
       "1      F     36.948093     70.0   17.5  ...    1244.0     304          25.0   \n",
       "2      F     38.128201     25.0   17.5  ...    5058.0     300          25.0   \n",
       "3      F     60.203470    300.0  135.0  ...   18192.0     400         135.0   \n",
       "4      F     60.203470    200.0  200.0  ...   18192.0     400         250.0   \n",
       "\n",
       "   PAY_WHO MODIFIER_STRING     FIRMNO SHORTFALLREASON PROVIDERTYPE       AGE  \\\n",
       "0        M             NaN  CMS004KAO             101           18  ABOVE 22   \n",
       "1        M             NaN  CMS004MUR             101           18  ABOVE 22   \n",
       "2        M             NaN  CMS001TNQ             101           18  ABOVE 22   \n",
       "3        V             NaN  CMS001SHC         101;535           18  ABOVE 22   \n",
       "4        V             NaN  CMS001SHC             101           18  ABOVE 22   \n",
       "\n",
       "     Class  \n",
       "0  proceed  \n",
       "1  proceed  \n",
       "2  proceed  \n",
       "3  proceed  \n",
       "4  proceed  \n",
       "\n",
       "[5 rows x 32 columns]"
      ]
     },
     "execution_count": 5,
     "metadata": {},
     "output_type": "execute_result"
    }
   ],
   "source": [
    "df = pd.read_csv('Final_Dataset.csv')\n",
    "df.head()"
   ]
  },
  {
   "cell_type": "code",
   "execution_count": 6,
   "id": "f4b74c4a-cdaf-4d38-a7ef-7246406cdcf2",
   "metadata": {},
   "outputs": [],
   "source": [
    "df1 = df.drop(columns = ['LINE_NUMBER','SUFFIX','PATIENTNAME','CURRENTAGE_1','SHORTFALL', 'DATE_RECEIVED', 'PROCESS_DATE','PAYDATE','SERVICEDATE','DESCRIPTION_1','QUANTITY','REFERRAL','PCKAGE','PAY_WHO','MODIFIER_STRING','FIRMNO','SHORTFALLREASON','AGE'], axis = 1)"
   ]
  },
  {
   "cell_type": "code",
   "execution_count": 7,
   "id": "f0853bc5-f5ff-4fe4-8e98-6bc9fd78af45",
   "metadata": {},
   "outputs": [],
   "source": [
    "train_dataset = df1.drop(columns = ['SPE_SPECIALITY_CODE','PRACTICE_NAME','CLAIM_NUMBER','PROVIDERTYPE','TARIFF_AMOUNT','PAID'], axis = 1)"
   ]
  },
  {
   "cell_type": "code",
   "execution_count": 8,
   "id": "d2e34b8c-545b-4c4f-be41-2c3796a5f2f3",
   "metadata": {},
   "outputs": [],
   "source": [
    "train_dataset = train_dataset.sample(frac=1).reset_index(drop=True)"
   ]
  },
  {
   "cell_type": "code",
   "execution_count": 12,
   "id": "74d6a1b6-3577-48dd-a2ea-8c68a09a91b6",
   "metadata": {},
   "outputs": [],
   "source": [
    "train_dataset = train_dataset.replace({'GENDER':{'F':1,'M':0}})"
   ]
  },
  {
   "cell_type": "code",
   "execution_count": 13,
   "id": "bc8323c7-8c85-483f-8e5f-9cd0db37e137",
   "metadata": {},
   "outputs": [],
   "source": [
    "train_dataset = train_dataset.replace({'Class':{'possible fraud ':0,'possible fraud':0, 'proceed':1}})"
   ]
  },
  {
   "cell_type": "code",
   "execution_count": 14,
   "id": "4c8898f2-47d1-4385-9c2f-a5c972db9826",
   "metadata": {},
   "outputs": [
    {
     "data": {
      "text/html": [
       "<div>\n",
       "<style scoped>\n",
       "    .dataframe tbody tr th:only-of-type {\n",
       "        vertical-align: middle;\n",
       "    }\n",
       "\n",
       "    .dataframe tbody tr th {\n",
       "        vertical-align: top;\n",
       "    }\n",
       "\n",
       "    .dataframe thead th {\n",
       "        text-align: right;\n",
       "    }\n",
       "</style>\n",
       "<table border=\"1\" class=\"dataframe\">\n",
       "  <thead>\n",
       "    <tr style=\"text-align: right;\">\n",
       "      <th></th>\n",
       "      <th>MEMBER_NUMBER</th>\n",
       "      <th>CURRENTAGE</th>\n",
       "      <th>GENDER</th>\n",
       "      <th>CLAIMED</th>\n",
       "      <th>PRACTICE_NUMBER</th>\n",
       "      <th>DESCRIPTION</th>\n",
       "      <th>TARIFF_CODE</th>\n",
       "      <th>Class</th>\n",
       "    </tr>\n",
       "  </thead>\n",
       "  <tbody>\n",
       "    <tr>\n",
       "      <th>0</th>\n",
       "      <td>30002095841</td>\n",
       "      <td>29.539491</td>\n",
       "      <td>1</td>\n",
       "      <td>30.0</td>\n",
       "      <td>188851</td>\n",
       "      <td>GYNAECOLOGY/OBSTETRICS</td>\n",
       "      <td>59477</td>\n",
       "      <td>1</td>\n",
       "    </tr>\n",
       "    <tr>\n",
       "      <th>1</th>\n",
       "      <td>40000139247</td>\n",
       "      <td>4.913147</td>\n",
       "      <td>0</td>\n",
       "      <td>70.0</td>\n",
       "      <td>12003</td>\n",
       "      <td>PAEDIATRICIANS</td>\n",
       "      <td>90003</td>\n",
       "      <td>1</td>\n",
       "    </tr>\n",
       "    <tr>\n",
       "      <th>2</th>\n",
       "      <td>20001035064</td>\n",
       "      <td>32.595943</td>\n",
       "      <td>1</td>\n",
       "      <td>50.0</td>\n",
       "      <td>185744</td>\n",
       "      <td>GYNAECOLOGY/OBSTETRICS</td>\n",
       "      <td>59475</td>\n",
       "      <td>1</td>\n",
       "    </tr>\n",
       "    <tr>\n",
       "      <th>3</th>\n",
       "      <td>30002114194</td>\n",
       "      <td>38.837878</td>\n",
       "      <td>1</td>\n",
       "      <td>30.0</td>\n",
       "      <td>18228</td>\n",
       "      <td>GYNAECOLOGY/OBSTETRICS</td>\n",
       "      <td>59477</td>\n",
       "      <td>1</td>\n",
       "    </tr>\n",
       "    <tr>\n",
       "      <th>4</th>\n",
       "      <td>30000458426</td>\n",
       "      <td>27.948093</td>\n",
       "      <td>1</td>\n",
       "      <td>40.0</td>\n",
       "      <td>18023</td>\n",
       "      <td>GYNAECOLOGY/OBSTETRICS</td>\n",
       "      <td>59477</td>\n",
       "      <td>1</td>\n",
       "    </tr>\n",
       "    <tr>\n",
       "      <th>...</th>\n",
       "      <td>...</td>\n",
       "      <td>...</td>\n",
       "      <td>...</td>\n",
       "      <td>...</td>\n",
       "      <td>...</td>\n",
       "      <td>...</td>\n",
       "      <td>...</td>\n",
       "      <td>...</td>\n",
       "    </tr>\n",
       "    <tr>\n",
       "      <th>45849</th>\n",
       "      <td>30001042621</td>\n",
       "      <td>45.770674</td>\n",
       "      <td>1</td>\n",
       "      <td>60.0</td>\n",
       "      <td>18230</td>\n",
       "      <td>GYNAECOLOGY/OBSTETRICS</td>\n",
       "      <td>58101</td>\n",
       "      <td>1</td>\n",
       "    </tr>\n",
       "    <tr>\n",
       "      <th>45850</th>\n",
       "      <td>30002117775</td>\n",
       "      <td>40.673900</td>\n",
       "      <td>1</td>\n",
       "      <td>40.0</td>\n",
       "      <td>18023</td>\n",
       "      <td>GYNAECOLOGY/OBSTETRICS</td>\n",
       "      <td>59477</td>\n",
       "      <td>1</td>\n",
       "    </tr>\n",
       "    <tr>\n",
       "      <th>45851</th>\n",
       "      <td>30001746649</td>\n",
       "      <td>32.913147</td>\n",
       "      <td>1</td>\n",
       "      <td>40.0</td>\n",
       "      <td>18309</td>\n",
       "      <td>GYNAECOLOGY/OBSTETRICS</td>\n",
       "      <td>59477</td>\n",
       "      <td>1</td>\n",
       "    </tr>\n",
       "    <tr>\n",
       "      <th>45852</th>\n",
       "      <td>20000890671</td>\n",
       "      <td>4.028739</td>\n",
       "      <td>1</td>\n",
       "      <td>80.0</td>\n",
       "      <td>12089</td>\n",
       "      <td>PAEDIATRICIANS</td>\n",
       "      <td>90003</td>\n",
       "      <td>1</td>\n",
       "    </tr>\n",
       "    <tr>\n",
       "      <th>45853</th>\n",
       "      <td>30002122399</td>\n",
       "      <td>7.200782</td>\n",
       "      <td>1</td>\n",
       "      <td>35.0</td>\n",
       "      <td>12100</td>\n",
       "      <td>PAEDIATRICIANS</td>\n",
       "      <td>79017</td>\n",
       "      <td>1</td>\n",
       "    </tr>\n",
       "  </tbody>\n",
       "</table>\n",
       "<p>45854 rows × 8 columns</p>\n",
       "</div>"
      ],
      "text/plain": [
       "       MEMBER_NUMBER  CURRENTAGE  GENDER  CLAIMED  PRACTICE_NUMBER  \\\n",
       "0        30002095841   29.539491       1     30.0           188851   \n",
       "1        40000139247    4.913147       0     70.0            12003   \n",
       "2        20001035064   32.595943       1     50.0           185744   \n",
       "3        30002114194   38.837878       1     30.0            18228   \n",
       "4        30000458426   27.948093       1     40.0            18023   \n",
       "...              ...         ...     ...      ...              ...   \n",
       "45849    30001042621   45.770674       1     60.0            18230   \n",
       "45850    30002117775   40.673900       1     40.0            18023   \n",
       "45851    30001746649   32.913147       1     40.0            18309   \n",
       "45852    20000890671    4.028739       1     80.0            12089   \n",
       "45853    30002122399    7.200782       1     35.0            12100   \n",
       "\n",
       "                  DESCRIPTION  TARIFF_CODE  Class  \n",
       "0      GYNAECOLOGY/OBSTETRICS        59477      1  \n",
       "1              PAEDIATRICIANS        90003      1  \n",
       "2      GYNAECOLOGY/OBSTETRICS        59475      1  \n",
       "3      GYNAECOLOGY/OBSTETRICS        59477      1  \n",
       "4      GYNAECOLOGY/OBSTETRICS        59477      1  \n",
       "...                       ...          ...    ...  \n",
       "45849  GYNAECOLOGY/OBSTETRICS        58101      1  \n",
       "45850  GYNAECOLOGY/OBSTETRICS        59477      1  \n",
       "45851  GYNAECOLOGY/OBSTETRICS        59477      1  \n",
       "45852          PAEDIATRICIANS        90003      1  \n",
       "45853          PAEDIATRICIANS        79017      1  \n",
       "\n",
       "[45854 rows x 8 columns]"
      ]
     },
     "execution_count": 14,
     "metadata": {},
     "output_type": "execute_result"
    }
   ],
   "source": [
    "train_dataset"
   ]
  },
  {
   "cell_type": "code",
   "execution_count": 15,
   "id": "9c0e09fd-e7f9-438b-aeec-6182c5d199e9",
   "metadata": {},
   "outputs": [],
   "source": [
    "train_dataset = train_dataset.replace({'DESCRIPTION':{'GYNAECOLOGY/OBSTETRICS':1,'PAEDIATRICIANS':0}})"
   ]
  },
  {
   "cell_type": "code",
   "execution_count": 16,
   "id": "d5f3cbd8-120e-4db5-8ca0-a91506c9e4cc",
   "metadata": {},
   "outputs": [
    {
     "data": {
      "text/html": [
       "<div>\n",
       "<style scoped>\n",
       "    .dataframe tbody tr th:only-of-type {\n",
       "        vertical-align: middle;\n",
       "    }\n",
       "\n",
       "    .dataframe tbody tr th {\n",
       "        vertical-align: top;\n",
       "    }\n",
       "\n",
       "    .dataframe thead th {\n",
       "        text-align: right;\n",
       "    }\n",
       "</style>\n",
       "<table border=\"1\" class=\"dataframe\">\n",
       "  <thead>\n",
       "    <tr style=\"text-align: right;\">\n",
       "      <th></th>\n",
       "      <th>MEMBER_NUMBER</th>\n",
       "      <th>CURRENTAGE</th>\n",
       "      <th>GENDER</th>\n",
       "      <th>CLAIMED</th>\n",
       "      <th>PRACTICE_NUMBER</th>\n",
       "      <th>DESCRIPTION</th>\n",
       "      <th>TARIFF_CODE</th>\n",
       "      <th>Class</th>\n",
       "    </tr>\n",
       "  </thead>\n",
       "  <tbody>\n",
       "    <tr>\n",
       "      <th>0</th>\n",
       "      <td>30002095841</td>\n",
       "      <td>29.539491</td>\n",
       "      <td>1</td>\n",
       "      <td>30.0</td>\n",
       "      <td>188851</td>\n",
       "      <td>1</td>\n",
       "      <td>59477</td>\n",
       "      <td>1</td>\n",
       "    </tr>\n",
       "    <tr>\n",
       "      <th>1</th>\n",
       "      <td>40000139247</td>\n",
       "      <td>4.913147</td>\n",
       "      <td>0</td>\n",
       "      <td>70.0</td>\n",
       "      <td>12003</td>\n",
       "      <td>0</td>\n",
       "      <td>90003</td>\n",
       "      <td>1</td>\n",
       "    </tr>\n",
       "    <tr>\n",
       "      <th>2</th>\n",
       "      <td>20001035064</td>\n",
       "      <td>32.595943</td>\n",
       "      <td>1</td>\n",
       "      <td>50.0</td>\n",
       "      <td>185744</td>\n",
       "      <td>1</td>\n",
       "      <td>59475</td>\n",
       "      <td>1</td>\n",
       "    </tr>\n",
       "    <tr>\n",
       "      <th>3</th>\n",
       "      <td>30002114194</td>\n",
       "      <td>38.837878</td>\n",
       "      <td>1</td>\n",
       "      <td>30.0</td>\n",
       "      <td>18228</td>\n",
       "      <td>1</td>\n",
       "      <td>59477</td>\n",
       "      <td>1</td>\n",
       "    </tr>\n",
       "    <tr>\n",
       "      <th>4</th>\n",
       "      <td>30000458426</td>\n",
       "      <td>27.948093</td>\n",
       "      <td>1</td>\n",
       "      <td>40.0</td>\n",
       "      <td>18023</td>\n",
       "      <td>1</td>\n",
       "      <td>59477</td>\n",
       "      <td>1</td>\n",
       "    </tr>\n",
       "    <tr>\n",
       "      <th>...</th>\n",
       "      <td>...</td>\n",
       "      <td>...</td>\n",
       "      <td>...</td>\n",
       "      <td>...</td>\n",
       "      <td>...</td>\n",
       "      <td>...</td>\n",
       "      <td>...</td>\n",
       "      <td>...</td>\n",
       "    </tr>\n",
       "    <tr>\n",
       "      <th>45849</th>\n",
       "      <td>30001042621</td>\n",
       "      <td>45.770674</td>\n",
       "      <td>1</td>\n",
       "      <td>60.0</td>\n",
       "      <td>18230</td>\n",
       "      <td>1</td>\n",
       "      <td>58101</td>\n",
       "      <td>1</td>\n",
       "    </tr>\n",
       "    <tr>\n",
       "      <th>45850</th>\n",
       "      <td>30002117775</td>\n",
       "      <td>40.673900</td>\n",
       "      <td>1</td>\n",
       "      <td>40.0</td>\n",
       "      <td>18023</td>\n",
       "      <td>1</td>\n",
       "      <td>59477</td>\n",
       "      <td>1</td>\n",
       "    </tr>\n",
       "    <tr>\n",
       "      <th>45851</th>\n",
       "      <td>30001746649</td>\n",
       "      <td>32.913147</td>\n",
       "      <td>1</td>\n",
       "      <td>40.0</td>\n",
       "      <td>18309</td>\n",
       "      <td>1</td>\n",
       "      <td>59477</td>\n",
       "      <td>1</td>\n",
       "    </tr>\n",
       "    <tr>\n",
       "      <th>45852</th>\n",
       "      <td>20000890671</td>\n",
       "      <td>4.028739</td>\n",
       "      <td>1</td>\n",
       "      <td>80.0</td>\n",
       "      <td>12089</td>\n",
       "      <td>0</td>\n",
       "      <td>90003</td>\n",
       "      <td>1</td>\n",
       "    </tr>\n",
       "    <tr>\n",
       "      <th>45853</th>\n",
       "      <td>30002122399</td>\n",
       "      <td>7.200782</td>\n",
       "      <td>1</td>\n",
       "      <td>35.0</td>\n",
       "      <td>12100</td>\n",
       "      <td>0</td>\n",
       "      <td>79017</td>\n",
       "      <td>1</td>\n",
       "    </tr>\n",
       "  </tbody>\n",
       "</table>\n",
       "<p>45854 rows × 8 columns</p>\n",
       "</div>"
      ],
      "text/plain": [
       "       MEMBER_NUMBER  CURRENTAGE  GENDER  CLAIMED  PRACTICE_NUMBER  \\\n",
       "0        30002095841   29.539491       1     30.0           188851   \n",
       "1        40000139247    4.913147       0     70.0            12003   \n",
       "2        20001035064   32.595943       1     50.0           185744   \n",
       "3        30002114194   38.837878       1     30.0            18228   \n",
       "4        30000458426   27.948093       1     40.0            18023   \n",
       "...              ...         ...     ...      ...              ...   \n",
       "45849    30001042621   45.770674       1     60.0            18230   \n",
       "45850    30002117775   40.673900       1     40.0            18023   \n",
       "45851    30001746649   32.913147       1     40.0            18309   \n",
       "45852    20000890671    4.028739       1     80.0            12089   \n",
       "45853    30002122399    7.200782       1     35.0            12100   \n",
       "\n",
       "       DESCRIPTION  TARIFF_CODE  Class  \n",
       "0                1        59477      1  \n",
       "1                0        90003      1  \n",
       "2                1        59475      1  \n",
       "3                1        59477      1  \n",
       "4                1        59477      1  \n",
       "...            ...          ...    ...  \n",
       "45849            1        58101      1  \n",
       "45850            1        59477      1  \n",
       "45851            1        59477      1  \n",
       "45852            0        90003      1  \n",
       "45853            0        79017      1  \n",
       "\n",
       "[45854 rows x 8 columns]"
      ]
     },
     "execution_count": 16,
     "metadata": {},
     "output_type": "execute_result"
    }
   ],
   "source": [
    "train_dataset"
   ]
  },
  {
   "cell_type": "code",
   "execution_count": 17,
   "id": "2b17afcb-c857-4c8d-8823-aea17ade30ad",
   "metadata": {},
   "outputs": [],
   "source": [
    "x = train_dataset.drop(columns = ['Class', 'MEMBER_NUMBER'], axis = 1)\n",
    "y = train_dataset['Class']"
   ]
  },
  {
   "cell_type": "code",
   "execution_count": 18,
   "id": "89fe25fb-1a8a-4510-a664-0adab453c79a",
   "metadata": {},
   "outputs": [],
   "source": [
    "from sklearn.model_selection import train_test_split\n",
    "x_train, x_test, y_train, y_test = train_test_split(x, y, test_size = 0.25, random_state=42)\n"
   ]
  },
  {
   "cell_type": "code",
   "execution_count": 19,
   "id": "8abf3007-aad9-4698-b781-5b02f57ec2e9",
   "metadata": {},
   "outputs": [
    {
     "data": {
      "text/plain": [
       "LogisticRegression(class_weight='balanced')"
      ]
     },
     "execution_count": 19,
     "metadata": {},
     "output_type": "execute_result"
    }
   ],
   "source": [
    "from sklearn.linear_model import LogisticRegression\n",
    "model = LogisticRegression(class_weight='balanced')\n",
    "model.fit(x_train,y_train)"
   ]
  },
  {
   "cell_type": "code",
   "execution_count": 20,
   "id": "69e55f26-11d2-4009-9f23-81dcbeedf5a7",
   "metadata": {},
   "outputs": [
    {
     "data": {
      "text/plain": [
       "array([0], dtype=int64)"
      ]
     },
     "execution_count": 20,
     "metadata": {},
     "output_type": "execute_result"
    }
   ],
   "source": [
    "model.predict([[0,1,70,18023,0,59500]])"
   ]
  },
  {
   "cell_type": "code",
   "execution_count": 23,
   "id": "51d2a99a-aa6a-4d81-99ec-c370f9075712",
   "metadata": {},
   "outputs": [
    {
     "data": {
      "text/plain": [
       "array([1], dtype=int64)"
      ]
     },
     "execution_count": 23,
     "metadata": {},
     "output_type": "execute_result"
    }
   ],
   "source": [
    "model.predict([[30,1,30,188851,1,59477]])"
   ]
  },
  {
   "cell_type": "code",
   "execution_count": 24,
   "id": "47f091b8-2ae6-4734-918f-0530fc52087e",
   "metadata": {},
   "outputs": [],
   "source": [
    "from imblearn.over_sampling import SMOTE\n",
    "smote = SMOTE()"
   ]
  },
  {
   "cell_type": "code",
   "execution_count": 26,
   "id": "91652c55-49aa-4cbc-bdb2-9799914d9e05",
   "metadata": {},
   "outputs": [],
   "source": [
    "x_train_smote, y_train_smote = smote.fit_resample(x_train.astype('float'),y_train)"
   ]
  },
  {
   "cell_type": "code",
   "execution_count": 27,
   "id": "a5b0b3e8-c421-44de-a2d2-955cd3197ee0",
   "metadata": {},
   "outputs": [
    {
     "data": {
      "text/plain": [
       "LogisticRegression(class_weight='balanced')"
      ]
     },
     "execution_count": 27,
     "metadata": {},
     "output_type": "execute_result"
    }
   ],
   "source": [
    "model.fit(x_train_smote, y_train_smote)"
   ]
  },
  {
   "cell_type": "code",
   "execution_count": 36,
   "id": "341c81e6-1bf7-463c-9418-9b8694ac4e84",
   "metadata": {},
   "outputs": [
    {
     "data": {
      "text/plain": [
       "array([1], dtype=int64)"
      ]
     },
     "execution_count": 36,
     "metadata": {},
     "output_type": "execute_result"
    }
   ],
   "source": [
    "model.predict([[0,0,30,1023,0,590]])"
   ]
  },
  {
   "cell_type": "code",
   "execution_count": 37,
   "id": "9d598143-fa13-4063-8510-ac0e5f709028",
   "metadata": {},
   "outputs": [],
   "source": [
    "from sklearn.ensemble import RandomForestClassifier, ExtraTreesClassifier\n",
    "from sklearn.neighbors import KNeighborsClassifier\n",
    "from sklearn.naive_bayes import GaussianNB\n",
    "from sklearn import svm\n",
    "svm_clf = svm.SVC()\n",
    "Naive_Bayes = GaussianNB()\n",
    "knn = KNeighborsClassifier(n_neighbors=4)\n",
    "model1 = RandomForestClassifier()\n",
    "model2 = ExtraTreesClassifier()"
   ]
  },
  {
   "cell_type": "code",
   "execution_count": 38,
   "id": "9104c44a-fff2-4972-a2a8-64621803ae89",
   "metadata": {},
   "outputs": [
    {
     "data": {
      "text/plain": [
       "KNeighborsClassifier(n_neighbors=4)"
      ]
     },
     "execution_count": 38,
     "metadata": {},
     "output_type": "execute_result"
    }
   ],
   "source": [
    "model.fit(x_train_smote,y_train_smote)\n",
    "model1.fit(x_train_smote,y_train_smote)\n",
    "model2.fit(x_train_smote,y_train_smote)\n",
    "svm_clf.fit(x_train_smote,y_train_smote)\n",
    "Naive_Bayes.fit(x_train_smote,y_train_smote)\n",
    "knn.fit(x_train_smote,y_train_smote)"
   ]
  },
  {
   "cell_type": "code",
   "execution_count": 39,
   "id": "cec6d1b8-6eed-4de5-ad54-5e68d3e6942f",
   "metadata": {},
   "outputs": [
    {
     "data": {
      "text/plain": [
       "['gauss.pkl']"
      ]
     },
     "execution_count": 39,
     "metadata": {},
     "output_type": "execute_result"
    }
   ],
   "source": [
    "import joblib\n",
    " \n",
    "# Save the model as a pickle in a file\n",
    "joblib.dump(model, 'logistics.pkl')\n",
    "joblib.dump(model1, 'randForest.pkl')\n",
    "joblib.dump(model2, 'extraTrees.pkl')\n",
    "joblib.dump(svm_clf, 'svm.pkl')\n",
    "joblib.dump(knn, 'knn.pkl')\n",
    "joblib.dump(Naive_Bayes, 'gauss.pkl')\n",
    "\n",
    "\n",
    " \n",
    "# Load the model from the file\n",
    "#knn_from_joblib = joblib.load('filename.pkl')\n",
    " \n",
    "# Use the loaded model to make predictions\n",
    "#knn_from_joblib.predict(X_test)"
   ]
  },
  {
   "cell_type": "code",
   "execution_count": 52,
   "id": "5595ea8f-abb2-46d6-ae16-06e087996bab",
   "metadata": {},
   "outputs": [
    {
     "data": {
      "text/plain": [
       "array([1], dtype=int64)"
      ]
     },
     "execution_count": 52,
     "metadata": {},
     "output_type": "execute_result"
    }
   ],
   "source": [
    "knn_from_joblib = joblib.load('svm.pkl')\n",
    "knn_from_joblib.predict([[40,0,70,18023,1,59500]])"
   ]
  },
  {
   "cell_type": "code",
   "execution_count": null,
   "id": "57a4fd47-517c-4010-96a1-992973644a0b",
   "metadata": {},
   "outputs": [],
   "source": []
  }
 ],
 "metadata": {
  "kernelspec": {
   "display_name": "Python 3 (ipykernel)",
   "language": "python",
   "name": "python3"
  },
  "language_info": {
   "codemirror_mode": {
    "name": "ipython",
    "version": 3
   },
   "file_extension": ".py",
   "mimetype": "text/x-python",
   "name": "python",
   "nbconvert_exporter": "python",
   "pygments_lexer": "ipython3",
   "version": "3.9.5"
  }
 },
 "nbformat": 4,
 "nbformat_minor": 5
}
